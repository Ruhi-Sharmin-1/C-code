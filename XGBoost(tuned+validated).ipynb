{
  "nbformat": 4,
  "nbformat_minor": 0,
  "metadata": {
    "colab": {
      "name": "XGBoost(tuned+validated).ipynb",
      "provenance": [],
      "authorship_tag": "ABX9TyP2UWCJ7GwT20yU9FYtxpbj",
      "include_colab_link": true
    },
    "kernelspec": {
      "name": "python3",
      "display_name": "Python 3"
    },
    "language_info": {
      "name": "python"
    }
  },
  "cells": [
    {
      "cell_type": "markdown",
      "metadata": {
        "id": "view-in-github",
        "colab_type": "text"
      },
      "source": [
        "<a href=\"https://colab.research.google.com/github/Ruhi-Sharmin-1/C-code/blob/main/XGBoost(tuned%2Bvalidated).ipynb\" target=\"_parent\"><img src=\"https://colab.research.google.com/assets/colab-badge.svg\" alt=\"Open In Colab\"/></a>"
      ]
    },
    {
      "cell_type": "code",
      "metadata": {
        "id": "zXIcboe3imv9"
      },
      "source": [
        "from numpy import mean\n",
        "from sklearn.datasets import make_classification\n",
        "from sklearn.model_selection import cross_val_score\n",
        "from sklearn.model_selection import RepeatedStratifiedKFold\n",
        "from sklearn.svm import SVC\n",
        "from scipy.io import savemat\n",
        "from scipy.io import loadmat\n",
        "import timeit\n",
        "import numpy as np"
      ],
      "execution_count": 23,
      "outputs": []
    },
    {
      "cell_type": "code",
      "source": [
        "from google.colab import drive\n",
        "#drive.mount('/content/gdrive')\n",
        "drive.mount(\"/content/gdrive\", force_remount=True)"
      ],
      "metadata": {
        "id": "D99sWb_ZSzG8",
        "colab": {
          "base_uri": "https://localhost:8080/"
        },
        "outputId": "588fcca1-9d29-406f-a695-33d19330f2d6"
      },
      "execution_count": 24,
      "outputs": [
        {
          "output_type": "stream",
          "name": "stdout",
          "text": [
            "Mounted at /content/gdrive\n"
          ]
        }
      ]
    },
    {
      "cell_type": "code",
      "source": [
        "loaddir_data=F\"/content/gdrive/My Drive/ml-ruhi/\"\n",
        "\n",
        "data = loadmat(loaddir_data + 'challenge_training2017_cases_normal_ecg_corr_metrics.mat',squeeze_me=True)\n",
        "training_normal_features = data['all_corr_metrics'][:,:]\n",
        "n_training_normal = np.shape(training_normal_features)[0]\n",
        "\n",
        "data = loadmat(loaddir_data + 'challenge_training2017_cases_afib_ecg_corr_metrics.mat',squeeze_me=True)\n",
        "training_afib_features = data['all_corr_metrics'][:,:]\n",
        "n_training_afib = np.shape(training_afib_features)[0]\n",
        "\n",
        "data = loadmat(loaddir_data + 'challenge_training2017_cases_noisy_ecg_corr_metrics.mat',squeeze_me=True)\n",
        "training_noisy_features = data['all_corr_metrics'][:,:]\n",
        "n_training_noisy = np.shape(training_noisy_features)[0]\n",
        "\n",
        "data = loadmat(loaddir_data + 'challenge_training2017_cases_other_ecg_corr_metrics.mat',squeeze_me=True)\n",
        "training_other_features = data['all_corr_metrics'][:,:]\n",
        "n_training_other = np.shape(training_other_features)[0]"
      ],
      "metadata": {
        "id": "szchBRRiS096"
      },
      "execution_count": 25,
      "outputs": []
    },
    {
      "cell_type": "code",
      "source": [
        "np.shape(training_normal_features)[0]"
      ],
      "metadata": {
        "id": "AJ51tLRAS3zE",
        "colab": {
          "base_uri": "https://localhost:8080/"
        },
        "outputId": "e64337bf-dcad-471a-b013-a2d62e054e8a"
      },
      "execution_count": 26,
      "outputs": [
        {
          "output_type": "execute_result",
          "data": {
            "text/plain": [
              "5050"
            ]
          },
          "metadata": {},
          "execution_count": 26
        }
      ]
    },
    {
      "cell_type": "code",
      "source": [
        "# append the training datasets and learning datasets\n",
        "training_features = np.concatenate((training_normal_features,training_afib_features,training_noisy_features,training_other_features),axis=0)\n",
        "training_labels = np.concatenate((np.zeros(n_training_normal),np.ones(n_training_afib),2*(np.ones(n_training_noisy)),3*(np.ones(n_training_other))))"
      ],
      "metadata": {
        "id": "LTAmbO76S5fS"
      },
      "execution_count": 27,
      "outputs": []
    },
    {
      "cell_type": "code",
      "source": [
        "def nanremove(x, y):\n",
        "  # input x is training_features, y is labels\n",
        "  if np.argwhere(np.isnan(x)).shape[0]==0:\n",
        "    return x,y\n",
        "  else:\n",
        "    l=np.argwhere(np.isnan(x)).shape[0]\n",
        "    u=np.argwhere(np.isnan(x))\n",
        "    \n",
        "    for i in range(l):      \n",
        "      x = np.delete(x, (u[i,0]-i), axis=0)\n",
        "      y = np.delete(y, (u[i,0]-i), axis=0)\n",
        "    return x,y\n"
      ],
      "metadata": {
        "id": "5m0KtkhBS9Xc"
      },
      "execution_count": 28,
      "outputs": []
    },
    {
      "cell_type": "code",
      "source": [
        "x,y=nanremove(training_features, training_labels)"
      ],
      "metadata": {
        "id": "VdiR1jrqS_MM"
      },
      "execution_count": 29,
      "outputs": []
    },
    {
      "cell_type": "code",
      "source": [
        "training_all = np.concatenate((x, y.reshape((-1,1))),axis=1)\n",
        "#np.random.shuffle(training_all)  #adds randomness\n",
        "training_features = training_all[:,:-1]\n",
        "training_labels = training_all[:,-1]"
      ],
      "metadata": {
        "id": "9wSFFhcCTA7U"
      },
      "execution_count": 30,
      "outputs": []
    },
    {
      "cell_type": "code",
      "source": [
        "from sklearn import model_selection\n",
        "from sklearn.linear_model import LogisticRegression\n",
        "test_size = 0.2 # from 0.01 to 0.1\n",
        "seed = 4 #change from 4 to 5\n",
        "x_train, x_test, y_train, y_test = model_selection.train_test_split(training_features, training_labels, test_size=test_size, random_state=seed)"
      ],
      "metadata": {
        "id": "PmjMHit-TDUM"
      },
      "execution_count": 33,
      "outputs": []
    },
    {
      "cell_type": "code",
      "source": [
        "import xgboost as xgb\n",
        "max_depth = 10\n",
        "n_estimators = 110\n",
        "\n",
        "bst = xgb.XGBClassifier(max_depth=max_depth, learning_rate=0.0001, n_estimators=n_estimators, slient=True, min_child_weight=1, objective='multi:softmax', gamma=0, reg_alpha=0, reg_lambda=1)\n",
        "bst.fit(training_features, training_labels) #bst=model\n",
        "# Fit the validation data  # model.predict for Y_predict\n",
        "xgb_pred = bst.predict(x_test)  \n",
        "# extracting most confident predictions\n",
        "best_preds = np.round(xgb_pred)"
      ],
      "metadata": {
        "id": "57mrOdonTFQD"
      },
      "execution_count": 34,
      "outputs": []
    },
    {
      "cell_type": "code",
      "source": [
        "\n",
        "xgb_pred_proba = bst.predict_proba(X_test)\n",
        "print(Y_test)\n",
        "print(xgb_pred_proba)\n",
        "import pandas as pd \n",
        "pd.DataFrame(Y_test).to_csv(F\"/content/gdrive/My Drive/ml-ruhi/XGBoost-Y-true-4class.csv\")\n",
        "pd.DataFrame(xgb_pred_proba).to_csv(F\"/content/gdrive/My Drive/ml-ruhi/XGBoost-Y-pred-4class.csv\")\n"
      ],
      "metadata": {
        "id": "JEG4s1R7TIn1",
        "colab": {
          "base_uri": "https://localhost:8080/"
        },
        "outputId": "4fba0b04-0eb7-4e79-fc7d-d6442f0f68b5"
      },
      "execution_count": 35,
      "outputs": [
        {
          "output_type": "stream",
          "name": "stdout",
          "text": [
            "[0. 0. 3. ... 3. 3. 3.]\n",
            "[[0.25465226 0.2482424  0.24822901 0.2488763 ]\n",
            " [0.25465226 0.2482424  0.24822901 0.2488763 ]\n",
            " [0.2531725  0.24679987 0.24681361 0.253214  ]\n",
            " ...\n",
            " [0.2482368  0.24822329 0.2482099  0.25533   ]\n",
            " [0.25155297 0.24753264 0.24751928 0.2533951 ]\n",
            " [0.2507584  0.24871762 0.24868625 0.2518377 ]]\n"
          ]
        }
      ]
    },
    {
      "cell_type": "code",
      "source": [
        "fimp=bst.feature_importances_"
      ],
      "metadata": {
        "id": "F2be03zFV27D"
      },
      "execution_count": 36,
      "outputs": []
    },
    {
      "cell_type": "code",
      "source": [
        "sorted_fimp=sorted(fimp, reverse=True)"
      ],
      "metadata": {
        "id": "qnAWUdbvV5WU"
      },
      "execution_count": 37,
      "outputs": []
    },
    {
      "cell_type": "code",
      "source": [
        "sorted_fimp"
      ],
      "metadata": {
        "id": "jgM87U9NV6CT",
        "colab": {
          "base_uri": "https://localhost:8080/"
        },
        "outputId": "6b144410-1bfb-4acd-c8d7-08efcf30975a"
      },
      "execution_count": 38,
      "outputs": [
        {
          "output_type": "execute_result",
          "data": {
            "text/plain": [
              "[0.15094139,\n",
              " 0.08984759,\n",
              " 0.076137915,\n",
              " 0.07167556,\n",
              " 0.049601115,\n",
              " 0.041528758,\n",
              " 0.03515115,\n",
              " 0.029978594,\n",
              " 0.026282994,\n",
              " 0.022806438,\n",
              " 0.019364735,\n",
              " 0.019212155,\n",
              " 0.01714228,\n",
              " 0.016465813,\n",
              " 0.015936274,\n",
              " 0.015799496,\n",
              " 0.015327463,\n",
              " 0.01526498,\n",
              " 0.014746407,\n",
              " 0.014688318,\n",
              " 0.014179274,\n",
              " 0.014102286,\n",
              " 0.012907737,\n",
              " 0.011867707,\n",
              " 0.011632884,\n",
              " 0.010560239,\n",
              " 0.010460126,\n",
              " 0.010408992,\n",
              " 0.010332001,\n",
              " 0.010218734,\n",
              " 0.010009691,\n",
              " 0.009921792,\n",
              " 0.009679276,\n",
              " 0.00956316,\n",
              " 0.009319055,\n",
              " 0.009179387,\n",
              " 0.008845416,\n",
              " 0.00847,\n",
              " 0.0084580025,\n",
              " 0.007918519,\n",
              " 0.007689885,\n",
              " 0.007551524,\n",
              " 0.007513139,\n",
              " 0.0068216342,\n",
              " 0.0044901315,\n",
              " 0.0,\n",
              " 0.0,\n",
              " 0.0]"
            ]
          },
          "metadata": {},
          "execution_count": 38
        }
      ]
    },
    {
      "cell_type": "code",
      "source": [
        "feature_index=np.zeros(len(fimp))"
      ],
      "metadata": {
        "id": "dDPVnzMqV7_T"
      },
      "execution_count": 41,
      "outputs": []
    },
    {
      "cell_type": "code",
      "source": [
        "len(fimp)"
      ],
      "metadata": {
        "id": "6HnGkVaMV90N",
        "colab": {
          "base_uri": "https://localhost:8080/"
        },
        "outputId": "f6984b5a-9d23-46af-c120-da46ac7c98cf"
      },
      "execution_count": 42,
      "outputs": [
        {
          "output_type": "execute_result",
          "data": {
            "text/plain": [
              "48"
            ]
          },
          "metadata": {},
          "execution_count": 42
        }
      ]
    },
    {
      "cell_type": "code",
      "source": [
        "range(len(fimp))"
      ],
      "metadata": {
        "id": "lPbW1RxYWBVN"
      },
      "execution_count": null,
      "outputs": []
    },
    {
      "cell_type": "code",
      "source": [
        "for t in range(len(fimp)):\n",
        "  for h in range(len(fimp)):\n",
        "    if sorted_fimp[t]==fimp[h]:\n",
        "      feature_index[t]=h\n"
      ],
      "metadata": {
        "id": "zjoTOAJ1WDAt"
      },
      "execution_count": 44,
      "outputs": []
    },
    {
      "cell_type": "code",
      "source": [
        "feature_index"
      ],
      "metadata": {
        "id": "sKxnLFyLWFNr",
        "colab": {
          "base_uri": "https://localhost:8080/"
        },
        "outputId": "a0f07c7a-e357-4077-906e-2079fafed86d"
      },
      "execution_count": 45,
      "outputs": [
        {
          "output_type": "execute_result",
          "data": {
            "text/plain": [
              "array([ 1.,  4.,  0., 26., 43.,  9., 31.,  7.,  6.,  3., 21., 11., 19.,\n",
              "       12., 23., 10., 32., 44., 47., 14., 25., 46.,  5., 42., 18., 13.,\n",
              "        8., 20., 17., 33., 27., 34., 28., 29., 22., 37., 39., 45.,  2.,\n",
              "       35., 24., 30., 16., 15., 40., 41., 41., 41.])"
            ]
          },
          "metadata": {},
          "execution_count": 45
        }
      ]
    },
    {
      "cell_type": "code",
      "source": [
        "feature_index_fixed = [ 0.,  1.,  4., 42., 21.,  3., 26., 11.,  9., 28.,  6., 43., 12.,\n",
        "       31.,  7., 25., 23.,  5., 32., 44., 19., 29., 13., 33., 10., 27.,\n",
        "       45., 17., 39.,  8., 30., 47., 35., 14., 16., 46., 34., 24., 18.,\n",
        "       15., 37., 22.,  2., 20., 40., 41., 38., 36.] #fixed through observation\n",
        "feature_index_fixed"
      ],
      "metadata": {
        "id": "PXoTbpQkWJ9T",
        "colab": {
          "base_uri": "https://localhost:8080/"
        },
        "outputId": "2049a925-1e7b-43fb-f606-da3ee29ed065"
      },
      "execution_count": 47,
      "outputs": [
        {
          "output_type": "execute_result",
          "data": {
            "text/plain": [
              "[0.0,\n",
              " 1.0,\n",
              " 4.0,\n",
              " 42.0,\n",
              " 21.0,\n",
              " 3.0,\n",
              " 26.0,\n",
              " 11.0,\n",
              " 9.0,\n",
              " 28.0,\n",
              " 6.0,\n",
              " 43.0,\n",
              " 12.0,\n",
              " 31.0,\n",
              " 7.0,\n",
              " 25.0,\n",
              " 23.0,\n",
              " 5.0,\n",
              " 32.0,\n",
              " 44.0,\n",
              " 19.0,\n",
              " 29.0,\n",
              " 13.0,\n",
              " 33.0,\n",
              " 10.0,\n",
              " 27.0,\n",
              " 45.0,\n",
              " 17.0,\n",
              " 39.0,\n",
              " 8.0,\n",
              " 30.0,\n",
              " 47.0,\n",
              " 35.0,\n",
              " 14.0,\n",
              " 16.0,\n",
              " 46.0,\n",
              " 34.0,\n",
              " 24.0,\n",
              " 18.0,\n",
              " 15.0,\n",
              " 37.0,\n",
              " 22.0,\n",
              " 2.0,\n",
              " 20.0,\n",
              " 40.0,\n",
              " 41.0,\n",
              " 38.0,\n",
              " 36.0]"
            ]
          },
          "metadata": {},
          "execution_count": 47
        }
      ]
    },
    {
      "cell_type": "code",
      "source": [
        "pyplot.barh(feature_index, sorted_fimp) #did not match well maybe"
      ],
      "metadata": {
        "id": "-YFys0f6WM3L",
        "colab": {
          "base_uri": "https://localhost:8080/",
          "height": 165
        },
        "outputId": "df1cd929-26de-4f65-cf6d-c0bceaaca189"
      },
      "execution_count": 48,
      "outputs": [
        {
          "output_type": "error",
          "ename": "NameError",
          "evalue": "ignored",
          "traceback": [
            "\u001b[0;31m---------------------------------------------------------------------------\u001b[0m",
            "\u001b[0;31mNameError\u001b[0m                                 Traceback (most recent call last)",
            "\u001b[0;32m<ipython-input-48-cc4d18f5108a>\u001b[0m in \u001b[0;36m<module>\u001b[0;34m()\u001b[0m\n\u001b[0;32m----> 1\u001b[0;31m \u001b[0mpyplot\u001b[0m\u001b[0;34m.\u001b[0m\u001b[0mbarh\u001b[0m\u001b[0;34m(\u001b[0m\u001b[0mfeature_index\u001b[0m\u001b[0;34m,\u001b[0m \u001b[0msorted_fimp\u001b[0m\u001b[0;34m)\u001b[0m \u001b[0;31m#did not match well maybe\u001b[0m\u001b[0;34m\u001b[0m\u001b[0;34m\u001b[0m\u001b[0m\n\u001b[0m",
            "\u001b[0;31mNameError\u001b[0m: name 'pyplot' is not defined"
          ]
        }
      ]
    },
    {
      "cell_type": "code",
      "source": [
        "#does not match with the for loop code and previous graphs\n",
        "ax = plot_importance(bst)\n",
        "ax.figure.set_size_inches(10,10)\n",
        "pyplot.title('XGBoost Feature Importance Bar Chart')\n",
        "pyplot.xticks(fontsize=10)\n",
        "pyplot.yticks(fontsize=10)\n",
        "pyplot.show()"
      ],
      "metadata": {
        "id": "7np8FkzOWObz",
        "colab": {
          "base_uri": "https://localhost:8080/",
          "height": 234
        },
        "outputId": "ab3cc1ac-7ec4-4654-bb17-2ff40a9dc997"
      },
      "execution_count": 49,
      "outputs": [
        {
          "output_type": "error",
          "ename": "NameError",
          "evalue": "ignored",
          "traceback": [
            "\u001b[0;31m---------------------------------------------------------------------------\u001b[0m",
            "\u001b[0;31mNameError\u001b[0m                                 Traceback (most recent call last)",
            "\u001b[0;32m<ipython-input-49-ef4292c53dae>\u001b[0m in \u001b[0;36m<module>\u001b[0;34m()\u001b[0m\n\u001b[1;32m      1\u001b[0m \u001b[0;31m#does not match with the for loop code and previous graphs\u001b[0m\u001b[0;34m\u001b[0m\u001b[0;34m\u001b[0m\u001b[0;34m\u001b[0m\u001b[0m\n\u001b[0;32m----> 2\u001b[0;31m \u001b[0max\u001b[0m \u001b[0;34m=\u001b[0m \u001b[0mplot_importance\u001b[0m\u001b[0;34m(\u001b[0m\u001b[0mbst\u001b[0m\u001b[0;34m)\u001b[0m\u001b[0;34m\u001b[0m\u001b[0;34m\u001b[0m\u001b[0m\n\u001b[0m\u001b[1;32m      3\u001b[0m \u001b[0max\u001b[0m\u001b[0;34m.\u001b[0m\u001b[0mfigure\u001b[0m\u001b[0;34m.\u001b[0m\u001b[0mset_size_inches\u001b[0m\u001b[0;34m(\u001b[0m\u001b[0;36m10\u001b[0m\u001b[0;34m,\u001b[0m\u001b[0;36m10\u001b[0m\u001b[0;34m)\u001b[0m\u001b[0;34m\u001b[0m\u001b[0;34m\u001b[0m\u001b[0m\n\u001b[1;32m      4\u001b[0m \u001b[0mpyplot\u001b[0m\u001b[0;34m.\u001b[0m\u001b[0mtitle\u001b[0m\u001b[0;34m(\u001b[0m\u001b[0;34m'XGBoost Feature Importance Bar Chart'\u001b[0m\u001b[0;34m)\u001b[0m\u001b[0;34m\u001b[0m\u001b[0;34m\u001b[0m\u001b[0m\n\u001b[1;32m      5\u001b[0m \u001b[0mpyplot\u001b[0m\u001b[0;34m.\u001b[0m\u001b[0mxticks\u001b[0m\u001b[0;34m(\u001b[0m\u001b[0mfontsize\u001b[0m\u001b[0;34m=\u001b[0m\u001b[0;36m10\u001b[0m\u001b[0;34m)\u001b[0m\u001b[0;34m\u001b[0m\u001b[0;34m\u001b[0m\u001b[0m\n",
            "\u001b[0;31mNameError\u001b[0m: name 'plot_importance' is not defined"
          ]
        }
      ]
    },
    {
      "cell_type": "code",
      "source": [
        "from sklearn.metrics import f1_score\n",
        "score = f1_score(Y_test, best_preds, average='weighted')\n",
        "print('F-Measure: %.3f' % score)\n"
      ],
      "metadata": {
        "id": "M006N2ZeWO7N",
        "colab": {
          "base_uri": "https://localhost:8080/"
        },
        "outputId": "cbdf25db-d36a-47ad-82c5-6bb8fdc117a1"
      },
      "execution_count": 50,
      "outputs": [
        {
          "output_type": "stream",
          "name": "stdout",
          "text": [
            "F-Measure: 0.846\n"
          ]
        }
      ]
    },
    {
      "cell_type": "code",
      "source": [
        "from sklearn.metrics import accuracy_score\n",
        "accuracy = accuracy_score(Y_test, best_preds)\n",
        "accuracy * 100.0"
      ],
      "metadata": {
        "id": "QTUc6oaJWz3C",
        "colab": {
          "base_uri": "https://localhost:8080/"
        },
        "outputId": "eb011419-3fc7-41d1-cde6-40f82d6cdac9"
      },
      "execution_count": 51,
      "outputs": [
        {
          "output_type": "execute_result",
          "data": {
            "text/plain": [
              "85.12639623750735"
            ]
          },
          "metadata": {},
          "execution_count": 51
        }
      ]
    },
    {
      "cell_type": "code",
      "source": [
        "best_preds.shape[0]"
      ],
      "metadata": {
        "id": "JMOSIaiGW1gZ",
        "colab": {
          "base_uri": "https://localhost:8080/"
        },
        "outputId": "edca0b7e-f219-499b-bdf0-1a559da72a9e"
      },
      "execution_count": 52,
      "outputs": [
        {
          "output_type": "execute_result",
          "data": {
            "text/plain": [
              "1701"
            ]
          },
          "metadata": {},
          "execution_count": 52
        }
      ]
    },
    {
      "cell_type": "code",
      "source": [
        "best_preds_normal=[]\n",
        "Y_test_normal=[]"
      ],
      "metadata": {
        "id": "huCY1vY2W3ax"
      },
      "execution_count": 53,
      "outputs": []
    },
    {
      "cell_type": "code",
      "source": [
        "for i in range(best_preds.shape[0]):\n",
        "  if(Y_test[i]==0):  # if you want to do it for afib, write Y_test[i]==1\n",
        "    Y_test_normal.append(Y_test[i])\n",
        "    best_preds_normal.append(best_preds[i])\n"
      ],
      "metadata": {
        "id": "OKV5_B-zW5D6"
      },
      "execution_count": 54,
      "outputs": []
    },
    {
      "cell_type": "code",
      "source": [
        "Y_test_normal=np.array(Y_test_normal)"
      ],
      "metadata": {
        "id": "WCdBN1IvW6zZ"
      },
      "execution_count": 55,
      "outputs": []
    },
    {
      "cell_type": "code",
      "source": [
        "best_preds_normal=np.array(best_preds_normal)"
      ],
      "metadata": {
        "id": "MaqovPk3W82a"
      },
      "execution_count": 56,
      "outputs": []
    },
    {
      "cell_type": "code",
      "source": [
        "accuracy = accuracy_score(Y_test_normal, best_preds_normal)\n",
        "accuracy * 100.0"
      ],
      "metadata": {
        "id": "tHM7say_W_SR",
        "colab": {
          "base_uri": "https://localhost:8080/"
        },
        "outputId": "f353019e-b377-4437-980c-f92165f2987f"
      },
      "execution_count": 62,
      "outputs": [
        {
          "output_type": "execute_result",
          "data": {
            "text/plain": [
              "95.83756345177665"
            ]
          },
          "metadata": {},
          "execution_count": 62
        }
      ]
    },
    {
      "cell_type": "code",
      "source": [
        "from sklearn.metrics import f1_score\n",
        "score = f1_score(Y_test_normal, best_preds_normal, average='weighted')\n",
        "print('F-Measure: %.3f' % score)"
      ],
      "metadata": {
        "colab": {
          "base_uri": "https://localhost:8080/"
        },
        "id": "QbNuLxkewH8r",
        "outputId": "b1f02b11-076e-45ff-f6d3-6c80f04dafc1"
      },
      "execution_count": 64,
      "outputs": [
        {
          "output_type": "stream",
          "name": "stdout",
          "text": [
            "F-Measure: 0.979\n"
          ]
        }
      ]
    },
    {
      "cell_type": "code",
      "source": [
        "best_preds_afib=[]\n",
        "Y_test_afib=[]\n",
        "\n",
        "for i in range(best_preds.shape[0]):\n",
        "  if(Y_test[i]==1):  # if you want to do it for afib, write Y_test[i]==1\n",
        "    Y_test_afib.append(Y_test[i])\n",
        "    best_preds_afib.append(best_preds[i])\n",
        "\n",
        "\n",
        "Y_test_afib=np.array(Y_test_afib)\n",
        "best_preds_afib=np.array(best_preds_afib)\n",
        "\n",
        "accuracy = accuracy_score(Y_test_afib, best_preds_afib)\n",
        "acc = accuracy * 100.0\n",
        "print('Acc: %.3f' % acc)\n",
        "\n",
        "from sklearn.metrics import f1_score\n",
        "score = f1_score(Y_test_afib, best_preds_afib, average='weighted')\n",
        "print('F-Measure: %.3f' % score)"
      ],
      "metadata": {
        "id": "POO48i_yXCEZ",
        "colab": {
          "base_uri": "https://localhost:8080/"
        },
        "outputId": "c08b8a8b-f0c1-44d3-d63e-e06b7b0ccaa0"
      },
      "execution_count": 69,
      "outputs": [
        {
          "output_type": "stream",
          "name": "stdout",
          "text": [
            "Acc: 89.820\n",
            "F-Measure: 0.946\n"
          ]
        }
      ]
    },
    {
      "cell_type": "code",
      "source": [
        "best_preds_noisy=[]\n",
        "Y_test_noisy=[]\n",
        "\n",
        "for i in range(best_preds.shape[0]):\n",
        "  if(Y_test[i]==2):  # if you want to do it for afib, write Y_test[i]==1\n",
        "    Y_test_noisy.append(Y_test[i])\n",
        "    best_preds_noisy.append(best_preds[i])\n",
        "\n",
        "\n",
        "Y_test_noisy=np.array(Y_test_noisy)\n",
        "best_preds_noisy=np.array(best_preds_noisy)\n",
        "\n",
        "accuracy = accuracy_score(Y_test_noisy, best_preds_noisy)\n",
        "acc = accuracy * 100.0\n",
        "print('Acc: %.3f' % acc)\n",
        "\n",
        "from sklearn.metrics import f1_score\n",
        "score = f1_score(Y_test_noisy, best_preds_noisy, average='weighted')\n",
        "print('F-Measure: %.3f' % score)"
      ],
      "metadata": {
        "id": "6-KR1zzlXEHB",
        "colab": {
          "base_uri": "https://localhost:8080/"
        },
        "outputId": "1b539f81-193b-425e-b391-ef7903a78284"
      },
      "execution_count": 71,
      "outputs": [
        {
          "output_type": "stream",
          "name": "stdout",
          "text": [
            "Acc: 82.759\n",
            "F-Measure: 0.906\n"
          ]
        }
      ]
    },
    {
      "cell_type": "code",
      "source": [
        "best_preds_other=[]\n",
        "Y_test_other=[]\n",
        "\n",
        "for i in range(best_preds.shape[0]):\n",
        "  if(Y_test[i]==3):  # if you want to do it for afib, write Y_test[i]==1\n",
        "    Y_test_other.append(Y_test[i])\n",
        "    best_preds_other.append(best_preds[i])\n",
        "\n",
        "\n",
        "Y_test_other=np.array(Y_test_other)\n",
        "best_preds_other=np.array(best_preds_other)\n",
        "\n",
        "accuracy = accuracy_score(Y_test_other, best_preds_other)\n",
        "acc = accuracy * 100.0\n",
        "print('Acc: %.3f' % acc)\n",
        "\n",
        "from sklearn.metrics import f1_score\n",
        "score = f1_score(Y_test_other, best_preds_other, average='weighted')\n",
        "print('F-Measure: %.3f' % score)"
      ],
      "metadata": {
        "id": "W9zXnXrjXGJp",
        "colab": {
          "base_uri": "https://localhost:8080/"
        },
        "outputId": "9ab1a06f-b5f8-47de-84c8-1954b136e34c"
      },
      "execution_count": 72,
      "outputs": [
        {
          "output_type": "stream",
          "name": "stdout",
          "text": [
            "Acc: 62.322\n",
            "F-Measure: 0.768\n"
          ]
        }
      ]
    },
    {
      "cell_type": "code",
      "source": [
        "print('Mean ROC AUC: %.3f' % mean(score))"
      ],
      "metadata": {
        "id": "dab7eYdHXG7h"
      },
      "execution_count": null,
      "outputs": []
    },
    {
      "cell_type": "code",
      "source": [
        "# avg F-measure for all 3 types except noise data\n",
        "from sklearn.metrics import f1_score\n",
        "score = f1_score(Y_test, best_preds, average=None)\n",
        "print(score) \n",
        "score = f1_score(Y_test, best_preds, average='macro')\n",
        "print(score) \n",
        "score = f1_score(Y_test, best_preds, average='weighted')\n",
        "print(score) \n"
      ],
      "metadata": {
        "id": "6f5Bn0jHXI8R"
      },
      "execution_count": null,
      "outputs": []
    },
    {
      "cell_type": "code",
      "source": [
        "from sklearn.metrics import confusion_matrix,plot_confusion_matrix\n",
        "cm=confusion_matrix(Y_test, best_preds)"
      ],
      "metadata": {
        "id": "dqw8ZjaYXMGM"
      },
      "execution_count": null,
      "outputs": []
    },
    {
      "cell_type": "code",
      "source": [
        "# code from https://stackoverflow.com/questions/39033880/plot-confusion-matrix-sklearn-with-multiple-labels\n",
        "def plot_conf_mat(cm, target_names, title='Confusion matrix', cmap=None, normalize=True):\n",
        "    import matplotlib.pyplot as plt\n",
        "    import numpy as np\n",
        "    import itertools\n",
        "\n",
        "    accuracy = np.trace(cm) / float(np.sum(cm))\n",
        "    misclass = 1 - accuracy\n",
        "\n",
        "    if cmap is None:\n",
        "        cmap = plt.get_cmap('Blues')\n",
        "\n",
        "    plt.figure(figsize=(8, 6))\n",
        "    plt.imshow(cm, interpolation='nearest', cmap=cmap)\n",
        "    plt.title(title)\n",
        "    plt.colorbar()\n",
        "\n",
        "    if target_names is not None:\n",
        "        tick_marks = np.arange(len(target_names))\n",
        "        plt.xticks(tick_marks, target_names, rotation=45)\n",
        "        plt.yticks(tick_marks, target_names)\n",
        "\n",
        "    if normalize:\n",
        "        cm = cm.astype('float') / cm.sum(axis=1)[:, np.newaxis]\n",
        "\n",
        "\n",
        "    thresh = cm.max() / 1.5 if normalize else cm.max() / 2\n",
        "    for i, j in itertools.product(range(cm.shape[0]), range(cm.shape[1])):\n",
        "        if normalize:\n",
        "            plt.text(j, i, \"{:0.4f}\".format(cm[i, j]),\n",
        "                     horizontalalignment=\"center\",\n",
        "                     color=\"white\" if cm[i, j] > thresh else \"black\")\n",
        "        else:\n",
        "            plt.text(j, i, \"{:,}\".format(cm[i, j]),\n",
        "                     horizontalalignment=\"center\",\n",
        "                     color=\"white\" if cm[i, j] > thresh else \"black\")\n",
        "\n",
        "\n",
        "    plt.tight_layout()\n",
        "    plt.ylabel('True label')\n",
        "    plt.xlabel('Predicted label\\naccuracy={:0.4f}; misclass={:0.4f}'.format(accuracy, misclass))\n",
        "    plt.show()"
      ],
      "metadata": {
        "id": "N6KlVGEIXOMZ"
      },
      "execution_count": null,
      "outputs": []
    },
    {
      "cell_type": "code",
      "source": [
        "target_names=['Normal', 'afib', 'noisy', 'other']"
      ],
      "metadata": {
        "id": "Y9oG35DxXQQc"
      },
      "execution_count": null,
      "outputs": []
    },
    {
      "cell_type": "code",
      "source": [
        "plot_conf_mat(cm, target_names)"
      ],
      "metadata": {
        "id": "kD04_w9lXSd6"
      },
      "execution_count": null,
      "outputs": []
    },
    {
      "cell_type": "code",
      "source": [
        "#cm=([[0.9715, 0, 0, 0.0286], [0.0049, 0.9323, 0.0206, 0.0422], [0.3077, 0.0769, 0.3462, 0.2692], [0.4999, 0.0556, 0.0556, 0.3889]])\n",
        "#https://stackoverflow.com/questions/43691380/how-to-save-load-xgboost-model\n",
        "import pickle\n",
        "#file_name = \"XGBoost+NN (RAW code).pkl\"\n",
        "file_path= F\"/content/gdrive/My Drive/ml-ruhi/\"\n",
        "\n",
        "# save\n",
        "pickle.dump(bst, open(file_path, \"wb\"))\n",
        "\n",
        "# load\n",
        "bst_loaded = pickle.load(open(file_path, \"rb\"))"
      ],
      "metadata": {
        "id": "JOe95sNTXUA8"
      },
      "execution_count": null,
      "outputs": []
    },
    {
      "cell_type": "code",
      "source": [
        ""
      ],
      "metadata": {
        "id": "Kw-dBnkqXaQD"
      },
      "execution_count": null,
      "outputs": []
    }
  ]
}