{
  "nbformat": 4,
  "nbformat_minor": 0,
  "metadata": {
    "colab": {
      "name": "hyperparamter-tuning_XGBoost",
      "provenance": [],
      "authorship_tag": "ABX9TyPjPqAcq/bvtT9yAMzxHT+2",
      "include_colab_link": true
    },
    "kernelspec": {
      "name": "python3",
      "display_name": "Python 3"
    },
    "language_info": {
      "name": "python"
    },
    "accelerator": "GPU"
  },
  "cells": [
    {
      "cell_type": "markdown",
      "metadata": {
        "id": "view-in-github",
        "colab_type": "text"
      },
      "source": [
        "<a href=\"https://colab.research.google.com/github/Ruhi-Sharmin-1/C-code/blob/main/hyperparamter_tuning_XGBoost.ipynb\" target=\"_parent\"><img src=\"https://colab.research.google.com/assets/colab-badge.svg\" alt=\"Open In Colab\"/></a>"
      ]
    },
    {
      "cell_type": "code",
      "execution_count": 1,
      "metadata": {
        "id": "JYM0xwVoBScY"
      },
      "outputs": [],
      "source": [
        "#importing necessary libraries\n",
        "from numpy import mean\n",
        "from sklearn.datasets import make_classification\n",
        "from sklearn.model_selection import cross_val_score\n",
        "from sklearn.model_selection import RepeatedStratifiedKFold\n",
        "#from sklearn.svm import SVC\n",
        "from scipy.io import savemat\n",
        "from scipy.io import loadmat\n",
        "import timeit\n",
        "import numpy as np\n",
        "import pandas as pd"
      ]
    },
    {
      "cell_type": "code",
      "source": [
        "#loading data from google drive\n",
        "from google.colab import drive\n",
        "#drive.mount('/content/gdrive')\n",
        "drive.mount(\"/content/gdrive\", force_remount=True)"
      ],
      "metadata": {
        "colab": {
          "base_uri": "https://localhost:8080/"
        },
        "id": "WRiZL-GuBcUL",
        "outputId": "984695d3-25a7-4768-ff67-1a3ea687079d"
      },
      "execution_count": 1,
      "outputs": [
        {
          "output_type": "stream",
          "name": "stdout",
          "text": [
            "Mounted at /content/gdrive\n"
          ]
        }
      ]
    },
    {
      "cell_type": "code",
      "source": [
        "loaddir_data=F\"/content/gdrive/My Drive/ml-ruhi/\"\n",
        "\n",
        "data = loadmat(loaddir_data + 'challenge_training2017_cases_normal_ecg_corr_metrics.mat',squeeze_me=True)\n",
        "training_normal_features = data['all_corr_metrics'][:,:]\n",
        "n_training_normal = np.shape(training_normal_features)[0]\n",
        "\n",
        "data = loadmat(loaddir_data + 'challenge_training2017_cases_afib_ecg_corr_metrics.mat',squeeze_me=True)\n",
        "training_afib_features = data['all_corr_metrics'][:,:]\n",
        "n_training_afib = np.shape(training_afib_features)[0]\n",
        "\n",
        "data = loadmat(loaddir_data + 'challenge_training2017_cases_noisy_ecg_corr_metrics.mat',squeeze_me=True)\n",
        "training_noisy_features = data['all_corr_metrics'][:,:]\n",
        "n_training_noisy = np.shape(training_noisy_features)[0]\n",
        "\n",
        "data = loadmat(loaddir_data + 'challenge_training2017_cases_other_ecg_corr_metrics.mat',squeeze_me=True)\n",
        "training_other_features = data['all_corr_metrics'][:,:]\n",
        "n_training_other = np.shape(training_other_features)[0]"
      ],
      "metadata": {
        "id": "GbIjw-yJBewm"
      },
      "execution_count": 3,
      "outputs": []
    },
    {
      "cell_type": "code",
      "source": [
        "training_normal_features.shape"
      ],
      "metadata": {
        "colab": {
          "base_uri": "https://localhost:8080/"
        },
        "id": "CmZ4Y5YJQckE",
        "outputId": "119c2ed9-f215-4cf2-e230-d40d1d951ba7"
      },
      "execution_count": 4,
      "outputs": [
        {
          "output_type": "execute_result",
          "data": {
            "text/plain": [
              "(5050, 48)"
            ]
          },
          "metadata": {},
          "execution_count": 4
        }
      ]
    },
    {
      "cell_type": "code",
      "source": [
        "# append the training datasets and learning datasets\n",
        "training_features = np.concatenate((training_normal_features,training_afib_features,training_noisy_features,training_other_features),axis=0)\n",
        "training_labels = np.concatenate((np.zeros(n_training_normal),np.ones(n_training_afib),2*(np.ones(n_training_noisy)),3*(np.ones(n_training_other))))"
      ],
      "metadata": {
        "id": "-vkMvDgiBhfS"
      },
      "execution_count": 5,
      "outputs": []
    },
    {
      "cell_type": "code",
      "source": [
        "#remove NAN values\n",
        "def nanremove(x, y):\n",
        "  # input x is training_features, y is labels\n",
        "  if np.argwhere(np.isnan(x)).shape[0]==0:\n",
        "    return x,y\n",
        "  else:\n",
        "    l=np.argwhere(np.isnan(x)).shape[0]\n",
        "    u=np.argwhere(np.isnan(x))\n",
        "    \n",
        "    for i in range(l):      \n",
        "      x = np.delete(x, (u[i,0]-i), axis=0)\n",
        "      y = np.delete(y, (u[i,0]-i), axis=0)\n",
        "    return x,y\n",
        "    \n",
        "x,y=nanremove(training_features, training_labels)"
      ],
      "metadata": {
        "id": "bAPgzK1_BlPd"
      },
      "execution_count": 6,
      "outputs": []
    },
    {
      "cell_type": "code",
      "source": [
        "training_all = np.concatenate((x, y.reshape((-1,1))),axis=1)\n",
        "np.random.shuffle(training_all)  #adds randomness\n",
        "training_features = training_all[:,:-1]\n",
        "training_labels = training_all[:,-1]"
      ],
      "metadata": {
        "id": "5pk7jx1UBsWz"
      },
      "execution_count": 7,
      "outputs": []
    },
    {
      "cell_type": "code",
      "source": [
        "max_abs_mean=0\n",
        "col_maxabsmean=0\n",
        "for i in range(training_features.shape[1]):\n",
        "  meanabscur=mean(abs(training_features[:,i]))\n",
        "  if(meanabscur>max_abs_mean):\n",
        "    max_abs_mean=meanabscur\n",
        "    col_maxabsmean=i\n"
      ],
      "metadata": {
        "id": "NLjJGUM5KFb1"
      },
      "execution_count": 8,
      "outputs": []
    },
    {
      "cell_type": "code",
      "source": [
        "col_maxabsmean"
      ],
      "metadata": {
        "colab": {
          "base_uri": "https://localhost:8080/"
        },
        "id": "9-K6CeT_LHa_",
        "outputId": "7d070cbf-a228-405c-d3b4-9beff07129df"
      },
      "execution_count": 9,
      "outputs": [
        {
          "output_type": "execute_result",
          "data": {
            "text/plain": [
              "24"
            ]
          },
          "metadata": {},
          "execution_count": 9
        }
      ]
    },
    {
      "cell_type": "code",
      "source": [
        "training_features[5:15,:]"
      ],
      "metadata": {
        "id": "t5sotRhdHjjm",
        "colab": {
          "base_uri": "https://localhost:8080/"
        },
        "outputId": "35117350-9f61-4de1-955d-2cb3344e60b7"
      },
      "execution_count": 10,
      "outputs": [
        {
          "output_type": "execute_result",
          "data": {
            "text/plain": [
              "array([[ 0.00000000e+00,  0.00000000e+00,  0.00000000e+00,\n",
              "         0.00000000e+00,  0.00000000e+00,  0.00000000e+00,\n",
              "         0.00000000e+00,  0.00000000e+00,  0.00000000e+00,\n",
              "         0.00000000e+00,  0.00000000e+00,  0.00000000e+00,\n",
              "         0.00000000e+00,  0.00000000e+00,  0.00000000e+00,\n",
              "         0.00000000e+00,  0.00000000e+00,  0.00000000e+00,\n",
              "         0.00000000e+00,  0.00000000e+00,  0.00000000e+00,\n",
              "         0.00000000e+00,  0.00000000e+00,  0.00000000e+00,\n",
              "         0.00000000e+00,  0.00000000e+00,  0.00000000e+00,\n",
              "         0.00000000e+00,  0.00000000e+00,  0.00000000e+00,\n",
              "         0.00000000e+00,  0.00000000e+00,  0.00000000e+00,\n",
              "         0.00000000e+00,  0.00000000e+00,  0.00000000e+00,\n",
              "         0.00000000e+00,  0.00000000e+00,  0.00000000e+00,\n",
              "         0.00000000e+00,  0.00000000e+00,  0.00000000e+00,\n",
              "         0.00000000e+00,  0.00000000e+00,  0.00000000e+00,\n",
              "         0.00000000e+00,  0.00000000e+00,  0.00000000e+00],\n",
              "       [ 4.76923077e+00,  3.86895476e-01,  1.14338305e+00,\n",
              "         2.35226592e+00,  3.20500000e+02,  7.68405266e+01,\n",
              "         2.46489860e-01,  2.87519747e-01,  5.72880573e-02,\n",
              "         1.77177177e-01,  1.15304265e+01,  1.87687688e-01,\n",
              "         1.38138138e-01,  8.13428956e+00,  2.79279279e-01,\n",
              "         7.80657848e+00,  3.55855856e-01,  5.60060060e-01,\n",
              "         1.91005541e+01,  1.32750796e+00,  2.71238534e+01,\n",
              "         1.38738739e+00,  1.62310845e+02,  4.85715569e+00,\n",
              "         1.14319827e+00,  1.86487063e+00, -1.20925525e-02,\n",
              "         1.04589640e+00,  1.67164921e+00,  6.96999101e-01,\n",
              "         5.58526199e-01,  8.14884328e+00,  2.80000000e+01,\n",
              "         2.40000000e+01,  7.54824650e+00,  5.68885404e+00,\n",
              "         1.00000000e+00,  1.34758267e+00,  1.00000000e+00,\n",
              "         6.14574482e+00,  5.85256186e-01,  0.00000000e+00,\n",
              "         4.11376384e-01,  2.14606852e+00,  1.58148400e+00,\n",
              "         1.02055425e-01,  7.62476067e-01,  4.66666667e-01],\n",
              "       [ 1.00000000e+00,  8.73949580e-02,  9.97691238e-01,\n",
              "         9.74531883e-01,  2.97500000e+02,  3.79223448e+00,\n",
              "         8.40336134e-02,  1.01180438e-02,  7.26711560e-02,\n",
              "         1.88552189e-01,  6.39053368e+00,  1.53198653e-01,\n",
              "         2.57575758e-01,  2.46758992e+01,  1.81818182e-01,\n",
              "         5.31578530e+00,  4.25925926e-01,  5.01683502e-01,\n",
              "         2.77618843e+01,  4.62235145e+00,  4.38864015e+01,\n",
              "         2.28956229e-01,  9.82251154e+01,  2.99381066e+00,\n",
              "        -3.37235724e+01,  3.04886628e+00,  2.92736363e+00,\n",
              "         5.45751929e+00,  5.25491770e-01,  6.58800361e-02,\n",
              "         9.95493635e-01,  8.48193971e+00,  1.20000000e+01,\n",
              "         1.00000000e+01,  6.72284087e+00,  4.55913753e+00,\n",
              "         1.00000000e+00,  3.72996123e+00,  1.00000000e+00,\n",
              "         6.08590993e+00,  9.84104894e-01,  0.00000000e+00,\n",
              "         4.12017423e-01,  1.00914356e+01,  1.01631287e+00,\n",
              "         1.86567439e-03,  9.97637648e-01,  1.44017725e+00],\n",
              "       [ 1.09090909e+00,  1.06666667e-01,  1.01586123e+00,\n",
              "         1.03312064e+00,  2.25000000e+02,  1.36285067e+00,\n",
              "         1.06666667e-01,  4.88888889e-02,  9.02654867e-02,\n",
              "         1.94690265e-01,  1.13257980e+01,  1.85840708e-01,\n",
              "         1.85840708e-01,  1.39950730e+00,  4.95575221e-01,\n",
              "         8.06856517e+00,  3.82743363e-01,  3.71681416e-01,\n",
              "         3.34182826e+00,  2.44508531e+00,  7.25203881e+01,\n",
              "         2.61061947e-01,  6.16445467e+01,  1.36853134e+00,\n",
              "         1.05453549e+02,  5.75772028e+00,  5.98390708e+00,\n",
              "         9.30048470e+00,  6.10399697e-02,  3.61970154e-03,\n",
              "         9.99992788e-01,  9.02350905e+00,  2.20000000e+01,\n",
              "         2.20000000e+01,  5.26507296e+00,  3.30149839e+00,\n",
              "         1.00000000e+00,  2.88363400e+00,  1.00000000e+00,\n",
              "         3.00498815e+00,  9.29377309e-01,  0.00000000e+00,\n",
              "         5.03357164e+00,  8.19709965e+00,  1.65270510e-01,\n",
              "         7.12300184e-03,  9.99891621e-01,  7.77777778e-02],\n",
              "       [ 1.00000000e+00,  7.71513353e-02,  9.99912664e-01,\n",
              "         1.00729383e+00,  3.37000000e+02,  1.25341297e+00,\n",
              "         7.71513353e-02,  9.58083832e-02,  4.82947149e-02,\n",
              "         1.58682635e-01,  1.16902293e+01,  1.27245509e-01,\n",
              "         1.25748503e-01,  7.45159820e-01,  1.34730539e-01,\n",
              "         8.54042202e+00,  3.23353293e-01,  3.17365269e-01,\n",
              "         1.07115285e+00,  1.63905521e+00,  3.11984392e+01,\n",
              "         3.65269461e-01,  1.00682683e+02,  4.11393867e+00,\n",
              "         1.99597645e+01,  4.95861288e+00,  4.88233869e+00,\n",
              "         8.97740032e+00,  9.33869098e-02,  4.63006163e-03,\n",
              "         9.99980371e-01,  6.69920166e+00,  2.20000000e+01,\n",
              "         2.20000000e+01,  4.95731269e+00,  3.81341143e+00,\n",
              "         1.00000000e+00,  2.14480708e+00,  1.00000000e+00,\n",
              "         2.16228661e+00,  9.34033671e-01,  0.00000000e+00,\n",
              "         4.83627600e+00,  6.15574915e+00,  1.40780345e-01,\n",
              "         1.26928956e-02,  9.99898001e-01,  2.44444444e-01],\n",
              "       [ 1.00000000e+00,  1.70616114e-01,  9.49072914e-01,\n",
              "         1.05189305e+00,  2.11000000e+02,  3.90713946e+00,\n",
              "         1.70616114e-01,  4.83091787e-02,  1.49918775e-01,\n",
              "         2.15827338e-01,  6.23677229e+00,  2.68585132e-01,\n",
              "         2.18225420e-01,  1.46757781e+01,  2.82973621e-01,\n",
              "         1.19106202e+01,  4.10071942e-01,  3.69304556e-01,\n",
              "         1.03001867e+01,  3.50544138e+00,  8.73812716e+01,\n",
              "         6.04316547e-01,  1.32313706e+02,  8.60223457e-01,\n",
              "         7.40739390e+01,  3.24555900e+00,  6.13519012e+00,\n",
              "         7.17162630e+00,  1.96889921e-01,  1.46426159e-02,\n",
              "         9.99975269e-01,  9.45522293e+00,  1.80000000e+01,\n",
              "         1.80000000e+01,  6.34980804e+00,  3.42790074e+00,\n",
              "         1.00000000e+00,  2.57999440e+00,  1.00000000e+00,\n",
              "         2.40427959e+00,  9.34697414e-01,  0.00000000e+00,\n",
              "         4.24476860e+00,  5.90335426e+00,  6.32118595e-01,\n",
              "         2.84083480e-02,  9.99320626e-01,  6.66666667e-01],\n",
              "       [ 1.03703704e+00,  7.21649485e-02,  1.01530269e+00,\n",
              "         9.68357978e-01,  3.88000000e+02,  4.26141654e+00,\n",
              "         7.21649485e-02,  7.85340314e-02,  4.65561224e-02,\n",
              "         1.17346939e-01,  1.14721279e+01,  1.14795918e-01,\n",
              "         1.09693878e-01,  7.97495620e+01,  3.92857143e-01,\n",
              "         8.29096735e+00,  3.95408163e-01,  3.77551020e-01,\n",
              "         1.17673526e+01,  1.45629859e+00,  2.34812698e+01,\n",
              "         2.80612245e-01,  1.30686297e+02,  9.22337673e+00,\n",
              "         1.85158786e+01,  3.50749910e+00,  3.13040576e+00,\n",
              "         5.28396882e+00,  3.89352949e-01,  4.03776776e-02,\n",
              "         9.97797610e-01,  9.16778897e+00,  2.20000000e+01,\n",
              "         2.40000000e+01,  6.83976041e+00,  4.53408956e+00,\n",
              "         1.00000000e+00,  3.78815333e+00,  1.00000000e+00,\n",
              "         3.87977175e+00,  8.98950837e-01,  0.00000000e+00,\n",
              "         1.48869541e+00,  5.25915941e+00,  5.03720999e-01,\n",
              "         5.86581416e-02,  9.69815428e-01,  3.22222222e-01],\n",
              "       [ 1.00000000e+00,  9.06344411e-02,  9.82771489e-01,\n",
              "         9.86666458e-01,  3.31000000e+02,  1.22241932e+00,\n",
              "         8.45921450e-02,  6.04229607e-03,  6.19335347e-02,\n",
              "         1.75226586e-01,  1.08888390e+01,  1.57099698e-01,\n",
              "         1.43504532e-01,  1.31389337e+00,  1.72205438e-01,\n",
              "         1.06182025e+01,  3.59516616e-01,  3.56495468e-01,\n",
              "         2.60505581e+01,  2.23020115e+00,  4.34597681e+01,\n",
              "         1.51057402e-01,  5.34133787e+01,  3.46284390e-02,\n",
              "         9.48867677e+01,  4.28014816e+00,  8.50227683e+00,\n",
              "         9.16498116e+00,  5.28893800e-02,  3.97492649e-03,\n",
              "         9.99999590e-01,  7.58838808e+00,  2.40000000e+01,\n",
              "         2.40000000e+01,  4.91413935e+00,  3.29486867e+00,\n",
              "         1.00000000e+00,  2.30799533e+00,  1.00000000e+00,\n",
              "         2.31736929e+00,  9.80152335e-01,  0.00000000e+00,\n",
              "         6.82848523e+00,  7.94907625e+00,  1.97380092e-01,\n",
              "         6.24070946e-03,  9.99997710e-01,  6.66666667e-02],\n",
              "       [ 9.33333333e-01,  7.02634881e-02,  1.21878947e+00,\n",
              "         1.34412024e+00,  3.98500000e+02,  4.72460378e+01,\n",
              "         6.02258469e-02,  1.71894605e-01,  7.63888889e-02,\n",
              "         2.51851852e-01,  3.61092557e+00,  3.11111111e-01,\n",
              "         9.66666667e-01,  8.81832508e+01,  2.62962963e-01,\n",
              "         1.19304746e+01,  5.44444444e-01,  1.01851852e+00,\n",
              "         6.39214548e+01,  2.46397883e+00,  1.52827510e+01,\n",
              "         1.55555556e-01,  1.20673251e+02,  1.44584493e+00,\n",
              "         1.09297825e+00,  1.21125452e+00,  2.52586494e-01,\n",
              "         4.84839079e+00,  2.67874814e+00,  2.19470268e-01,\n",
              "         6.67914243e-01,  1.02075112e+01,  1.80000000e+01,\n",
              "         1.60000000e+01,  6.50799454e+00,  4.96636834e+00,\n",
              "         1.00000000e+00,  2.39915767e+00,  1.00000000e+00,\n",
              "         2.52654924e+00,  8.90255643e-01,  0.00000000e+00,\n",
              "         3.92457330e-01,  5.56276678e+00,  2.43405566e+00,\n",
              "         1.43712547e-01,  8.98597440e-01,  1.22850123e-01],\n",
              "       [ 1.00000000e+00,  8.33333333e-02,  9.79523688e-01,\n",
              "         9.91363559e-01,  3.36000000e+02,  8.91279009e-01,\n",
              "         8.33333333e-02,  1.78571429e-02,  6.09226594e-02,\n",
              "         1.70149254e-01,  1.06981138e+01,  1.46268657e-01,\n",
              "         1.34328358e-01,  2.08307016e+00,  1.58208955e-01,\n",
              "         7.95399451e+00,  4.23880597e-01,  3.31343284e-01,\n",
              "         2.13442954e+01,  1.78867191e+00,  3.13865880e+01,\n",
              "         1.61194030e-01,  5.96513045e+01,  1.21654784e+00,\n",
              "        -1.24742986e+01,  4.50344973e+00,  6.12484362e+00,\n",
              "         8.42869320e+00,  9.83569425e-02,  6.86815806e-03,\n",
              "         9.99993155e-01,  8.27746799e+00,  2.40000000e+01,\n",
              "         2.40000000e+01,  5.03231370e+00,  3.38097241e+00,\n",
              "         1.00000000e+00,  1.99678432e+00,  1.00000000e+00,\n",
              "         2.00923877e+00,  9.69600819e-01,  0.00000000e+00,\n",
              "         5.18845960e+00,  6.37761139e+00,  2.43127406e-01,\n",
              "         1.34136575e-02,  9.99960711e-01,  1.22222222e-01]])"
            ]
          },
          "metadata": {},
          "execution_count": 10
        }
      ]
    },
    {
      "cell_type": "code",
      "source": [
        "#https://www.analyticsvidhya.com/blog/2016/03/complete-guide-parameter-tuning-xgboost-with-codes-python/\n",
        "#Lets start by importing the required libraries and loading the data:\n",
        "#Import libraries:\n",
        "import pandas as pd\n",
        "import numpy as np\n",
        "import xgboost as xgb\n",
        "from xgboost.sklearn import XGBClassifier\n",
        "#from sklearn import cross_validation\n",
        "#from sklearn import metrics   #Additional scklearn functions\n",
        "#from sklearn.grid_search import GridSearchCV   #Perforing grid search\n",
        "from sklearn.model_selection import RandomizedSearchCV, GridSearchCV, train_test_split\n",
        "\n",
        "import matplotlib.pylab as plt\n",
        "%matplotlib inline\n",
        "from matplotlib.pylab import rcParams\n",
        "rcParams['figure.figsize'] = 12, 4\n"
      ],
      "metadata": {
        "id": "D3Tefffw7Rng"
      },
      "execution_count": 11,
      "outputs": []
    },
    {
      "cell_type": "code",
      "source": [
        "def algorithm_pipeline(X_train_data, X_test_data, y_train_data, y_test_data, \n",
        "                       model, param_grid, cv=10, scoring_fit='neg_mean_squared_error',\n",
        "                       do_probabilities = False):\n",
        "    gs = GridSearchCV(\n",
        "        estimator=model,\n",
        "        param_grid=param_grid, \n",
        "        cv=cv, \n",
        "        n_jobs=-1, \n",
        "        scoring=scoring_fit,\n",
        "        verbose=2\n",
        "    )\n",
        "    fitted_model = gs.fit(X_train_data, y_train_data)\n",
        "    \n",
        "    if do_probabilities:\n",
        "      pred = fitted_model.predict_proba(X_test_data)\n",
        "    else:\n",
        "      pred = fitted_model.predict(X_test_data)\n",
        "    \n",
        "    return fitted_model, pred"
      ],
      "metadata": {
        "id": "G75FbmCKWZas"
      },
      "execution_count": 12,
      "outputs": []
    },
    {
      "cell_type": "code",
      "source": [
        "from sklearn import model_selection\n",
        "#from sklearn.linear_model import LogisticRegression\n",
        "test_size = 0.01 # from 0.01 to 0.1\n",
        "seed = 4 #change from 4 to 5\n",
        "X_train, X_test, Y_train, Y_test = model_selection.train_test_split(training_features, training_labels, test_size=test_size, random_state=seed)"
      ],
      "metadata": {
        "id": "zz0RC7e3Bu2p"
      },
      "execution_count": 13,
      "outputs": []
    },
    {
      "cell_type": "code",
      "source": [
        "model = xgb.XGBClassifier(max_depth=5, learning_rate=0.01, n_estimators=140, slient=True, min_child_weight=1, objective='multi:softmax', gamma=0, reg_alpha=0, reg_lambda=1)\n",
        "param_grid = {\n",
        "    'max_depth':range(3,10,2),\n",
        " 'min_child_weight':range(1,6,2)\n",
        "}\n",
        "\n",
        "model, pred = algorithm_pipeline(X_train, X_test, Y_train, Y_test, model, \n",
        "                                 param_grid, cv=2)\n",
        "\n",
        "# Root Mean Squared Error\n",
        "print(np.sqrt(-model.best_score_))\n",
        "print(model.best_params_)"
      ],
      "metadata": {
        "colab": {
          "base_uri": "https://localhost:8080/"
        },
        "id": "i94AG85bZeKc",
        "outputId": "7f1e3a69-eba9-40c1-fdd0-d446c10f0014"
      },
      "execution_count": 14,
      "outputs": [
        {
          "output_type": "stream",
          "name": "stdout",
          "text": [
            "Fitting 2 folds for each of 12 candidates, totalling 24 fits\n",
            "1.340020327272967\n",
            "{'max_depth': 9, 'min_child_weight': 5}\n"
          ]
        }
      ]
    },
    {
      "cell_type": "code",
      "source": [
        "model = xgb.XGBClassifier(max_depth=5, learning_rate=0.01, n_estimators=140, slient=True, min_child_weight=1, objective='multi:softmax', gamma=0, reg_alpha=0, reg_lambda=1)\n",
        "param_grid = {\n",
        "    'max_depth':[8,9,10],\n",
        " 'min_child_weight':[1,2]\n",
        "}\n",
        "\n",
        "model, pred = algorithm_pipeline(X_train, X_test, Y_train, Y_test, model, \n",
        "                                 param_grid, cv=2)\n",
        "\n",
        "# Root Mean Squared Error\n",
        "print(np.sqrt(-model.best_score_))\n",
        "print(model.best_params_)"
      ],
      "metadata": {
        "colab": {
          "base_uri": "https://localhost:8080/"
        },
        "id": "VlIRDLAAmGQm",
        "outputId": "ff23d33a-29af-4707-92a3-0986f595bcf0"
      },
      "execution_count": null,
      "outputs": [
        {
          "output_type": "stream",
          "name": "stdout",
          "text": [
            "Fitting 2 folds for each of 6 candidates, totalling 12 fits\n",
            "1.3384676385092167\n",
            "{'max_depth': 10, 'min_child_weight': 2}\n"
          ]
        }
      ]
    },
    {
      "cell_type": "code",
      "source": [
        "model = xgb.XGBClassifier(max_depth=8, learning_rate=0.01, n_estimators=140, slient=True, min_child_weight=1, objective='multi:softmax', gamma=0, reg_alpha=0, reg_lambda=1)\n",
        "param_grid = {\n",
        "    'gamma':[i/10.0 for i in range(0,5)]\n",
        "}\n",
        "\n",
        "model, pred = algorithm_pipeline(X_train, X_test, Y_train, Y_test, model, \n",
        "                                 param_grid, cv=2)\n",
        "\n",
        "# Root Mean Squared Error\n",
        "print(np.sqrt(-model.best_score_))\n",
        "print(model.best_params_)"
      ],
      "metadata": {
        "colab": {
          "base_uri": "https://localhost:8080/"
        },
        "id": "uosCydXrm75k",
        "outputId": "c3962f07-2654-4a30-e51f-76eb5d6f9de6"
      },
      "execution_count": null,
      "outputs": [
        {
          "output_type": "stream",
          "name": "stdout",
          "text": [
            "Fitting 2 folds for each of 5 candidates, totalling 10 fits\n",
            "1.3364476517194879\n",
            "{'gamma': 0.2}\n"
          ]
        }
      ]
    },
    {
      "cell_type": "code",
      "source": [
        "model = xgb.XGBClassifier(max_depth=8, learning_rate=0.01, n_estimators=140, slient=True, min_child_weight=1, objective='multi:softmax', gamma=0.2, subsample=0.8, colsample_bytree=0.8,reg_alpha=0, reg_lambda=1)\n",
        "param_grid = {\n",
        "    'subsample':[i/10.0 for i in range(6,10)],\n",
        " 'colsample_bytree':[i/10.0 for i in range(6,10)]\n",
        "}\n",
        "\n",
        "model, pred = algorithm_pipeline(X_train, X_test, Y_train, Y_test, model, \n",
        "                                 param_grid, cv=2)\n",
        "\n",
        "# Root Mean Squared Error\n",
        "print(np.sqrt(-model.best_score_))\n",
        "print(model.best_params_)"
      ],
      "metadata": {
        "colab": {
          "base_uri": "https://localhost:8080/"
        },
        "id": "RBvQyhmLnqCd",
        "outputId": "973ca0ef-4f07-4d5f-8906-96715192c713"
      },
      "execution_count": null,
      "outputs": [
        {
          "output_type": "stream",
          "name": "stdout",
          "text": [
            "Fitting 2 folds for each of 16 candidates, totalling 32 fits\n",
            "1.3422104760692264\n",
            "{'colsample_bytree': 0.8, 'subsample': 0.9}\n"
          ]
        }
      ]
    },
    {
      "cell_type": "code",
      "source": [
        "model = xgb.XGBClassifier(max_depth=8, learning_rate=0.01, n_estimators=140, slient=True, min_child_weight=1, objective='multi:softmax', gamma=0.2, subsample=0.9, colsample_bytree=0.8,reg_alpha=0, reg_lambda=1)\n",
        "param_grid = {\n",
        "    'reg_lambda':[1e-5, 1e-2, 0.1, 1, 100]\n",
        "}\n",
        "\n",
        "model, pred = algorithm_pipeline(X_train, X_test, Y_train, Y_test, model, \n",
        "                                 param_grid, cv=2)\n",
        "\n",
        "# Root Mean Squared Error\n",
        "print(np.sqrt(-model.best_score_))\n",
        "print(model.best_params_)"
      ],
      "metadata": {
        "colab": {
          "base_uri": "https://localhost:8080/"
        },
        "id": "qmnDUsppozWq",
        "outputId": "2977422f-8131-467f-bee8-7d6d475eebd4"
      },
      "execution_count": null,
      "outputs": [
        {
          "output_type": "stream",
          "name": "stdout",
          "text": [
            "Fitting 2 folds for each of 5 candidates, totalling 10 fits\n",
            "1.3400728914158202\n",
            "{'reg_lambda': 1e-05}\n"
          ]
        }
      ]
    },
    {
      "cell_type": "code",
      "source": [
        "model = xgb.XGBClassifier(max_depth=8, learning_rate=0.01, n_estimators=140, slient=True, min_child_weight=1, objective='multi:softmax', gamma=0.2, subsample=0.9, colsample_bytree=0.8,reg_alpha=0, reg_lambda=1e-5)\n",
        "param_grid = {\n",
        "    'n_estimators': [100,200,300,400, 500,600,700,800,900, 1000]\n",
        "}\n",
        "\n",
        "model, pred = algorithm_pipeline(X_train, X_test, Y_train, Y_test, model, \n",
        "                                 param_grid, cv=2)\n",
        "\n",
        "# Root Mean Squared Error\n",
        "print(np.sqrt(-model.best_score_))\n",
        "print(model.best_params_)"
      ],
      "metadata": {
        "colab": {
          "base_uri": "https://localhost:8080/"
        },
        "id": "Yg1VtrzipWB0",
        "outputId": "f2b3c39f-44f2-4bb5-e832-c4e1ff994018"
      },
      "execution_count": null,
      "outputs": [
        {
          "output_type": "stream",
          "name": "stdout",
          "text": [
            "Fitting 2 folds for each of 10 candidates, totalling 20 fits\n",
            "1.3287803278416352\n",
            "{'n_estimators': 1000}\n"
          ]
        }
      ]
    },
    {
      "cell_type": "code",
      "source": [
        "model = xgb.XGBClassifier(max_depth=8, learning_rate=0.01, n_estimators=140, slient=True, min_child_weight=1, objective='multi:softmax', gamma=0.2, subsample=0.9, colsample_bytree=0.8,reg_alpha=0, reg_lambda=1e-5)\n",
        "param_grid = {\n",
        "    'n_estimators': [1000, 3000, 5000]\n",
        "}\n",
        "\n",
        "model, pred = algorithm_pipeline(X_train, X_test, Y_train, Y_test, model, \n",
        "                                 param_grid, cv=2)\n",
        "\n",
        "# Root Mean Squared Error\n",
        "print(np.sqrt(-model.best_score_))\n",
        "print(model.best_params_)"
      ],
      "metadata": {
        "colab": {
          "base_uri": "https://localhost:8080/"
        },
        "id": "wfj5LROCvM6c",
        "outputId": "2e59bcb6-6e86-43c9-b283-2c60b57d3e53"
      },
      "execution_count": null,
      "outputs": [
        {
          "output_type": "stream",
          "name": "stdout",
          "text": [
            "Fitting 2 folds for each of 3 candidates, totalling 6 fits\n",
            "1.3258451394206545\n",
            "{'n_estimators': 5000}\n"
          ]
        }
      ]
    },
    {
      "cell_type": "code",
      "source": [
        "model = xgb.XGBClassifier(max_depth=8, learning_rate=0.01, n_estimators=1000, slient=True, min_child_weight=1, objective='multi:softmax', gamma=0.2, subsample=0.9, colsample_bytree=0.8,reg_alpha=0, reg_lambda=1e-5)\n",
        "param_grid = {\n",
        "    'learning_rate': [1e-5, 1e-4, 1e-3, 1e-2, 0.1]\n",
        "}\n",
        "\n",
        "model, pred = algorithm_pipeline(X_train, X_test, Y_train, Y_test, model, \n",
        "                                 param_grid, cv=2)\n",
        "\n",
        "# Root Mean Squared Error\n",
        "print(np.sqrt(-model.best_score_))\n",
        "print(model.best_params_)"
      ],
      "metadata": {
        "colab": {
          "base_uri": "https://localhost:8080/"
        },
        "id": "bzCRS6cAqv6u",
        "outputId": "521a2a98-b685-47d3-a2d8-05a305d3edf3"
      },
      "execution_count": null,
      "outputs": [
        {
          "output_type": "stream",
          "name": "stdout",
          "text": [
            "Fitting 2 folds for each of 5 candidates, totalling 10 fits\n",
            "1.3276734718995806\n",
            "{'learning_rate': 0.1}\n"
          ]
        }
      ]
    },
    {
      "cell_type": "code",
      "source": [
        "bst = xgb.XGBClassifier(max_depth=8, learning_rate=0.1, n_estimators=1000, slient=True, min_child_weight=1, objective='multi:softmax', gamma=0.2, reg_alpha=0, reg_lambda=1e-5)\n",
        "bst.fit(X_train, Y_train) #bst=model\n",
        "# Fit the validation data  # model.predict for Y_predict\n",
        "xgb_pred = bst.predict(X_test)  \n",
        "# extracting most confident predictions\n",
        "best_preds = np.round(xgb_pred)"
      ],
      "metadata": {
        "id": "Ix2Y2qs66N85"
      },
      "execution_count": null,
      "outputs": []
    },
    {
      "cell_type": "code",
      "source": [
        "print(model)"
      ],
      "metadata": {
        "colab": {
          "base_uri": "https://localhost:8080/"
        },
        "id": "0xAjNlsYexDQ",
        "outputId": "0266a469-01e2-4c8c-cd1b-0b98e449dfee"
      },
      "execution_count": null,
      "outputs": [
        {
          "output_type": "stream",
          "name": "stdout",
          "text": [
            "GridSearchCV(cv=2, estimator=XGBClassifier(), n_jobs=-1,\n",
            "             param_grid={'colsample_bytree': [0.7], 'max_depth': [15],\n",
            "                         'n_estimators': [400], 'reg_alpha': [1.1],\n",
            "                         'reg_lambda': [1.1], 'subsample': [0.7]},\n",
            "             scoring='neg_mean_squared_error', verbose=2)\n"
          ]
        }
      ]
    },
    {
      "cell_type": "code",
      "source": [
        "def modelfit(alg, dtrain, predictors,useTrainCV=True, cv_folds=5, early_stopping_rounds=50):\n",
        "    \n",
        "    if useTrainCV:\n",
        "        xgb_param = alg.get_xgb_params()\n",
        "        xgtrain = xgb.DMatrix(dtrain[predictors].values, label=dtrain[target].values)\n",
        "        cvresult = xgb.cv(xgb_param, xgtrain, num_boost_round=alg.get_params()['n_estimators'], nfold=cv_folds,\n",
        "            metrics='auc', early_stopping_rounds=early_stopping_rounds, show_progress=False)\n",
        "        alg.set_params(n_estimators=cvresult.shape[0])\n",
        "    \n",
        "    #Fit the algorithm on the data\n",
        "    alg.fit(dtrain[predictors], dtrain['Disbursed'],eval_metric='auc')\n",
        "        \n",
        "    #Predict training set:\n",
        "    dtrain_predictions = alg.predict(dtrain[predictors])\n",
        "    dtrain_predprob = alg.predict_proba(dtrain[predictors])[:,1]\n",
        "        \n",
        "    #Print model report:\n",
        "    print(\"Model Report\\n\")\n",
        "    print(\"Accuracy : %.4g\" % metrics.accuracy_score(dtrain['Disbursed'].values, dtrain_predictions))\n",
        "    print(\"AUC Score (Train): %f\" % metrics.roc_auc_score(dtrain['Disbursed'], dtrain_predprob))\n",
        "                    \n",
        "    feat_imp = pd.Series(alg.booster().get_fscore()).sort_values(ascending=False)\n",
        "    feat_imp.plot(kind='bar', title='Feature Importances')\n",
        "    plt.ylabel('Feature Importance Score')"
      ],
      "metadata": {
        "id": "nbQVNQRWb0Gl"
      },
      "execution_count": null,
      "outputs": []
    },
    {
      "cell_type": "code",
      "source": [
        "import xgboost as xgb\n",
        "max_depth = 10\n",
        "n_estimators = 110\n",
        "\n",
        "bst = xgb.XGBClassifier(max_depth=max_depth, learning_rate=0.0001, n_estimators=n_estimators, slient=True, min_child_weight=1, objective='multi:softmax', gamma=0, reg_alpha=0, reg_lambda=1)\n",
        "bst.fit(X_train, Y_train) #bst=model\n",
        "# Fit the validation data  # model.predict for Y_predict\n",
        "xgb_pred = bst.predict(X_test)  \n",
        "# extracting most confident predictions\n",
        "best_preds = np.round(xgb_pred)\n",
        "\n",
        "#(max_depth=3, learning_rate=0.1, n_estimators=100, verbosity=1, silent=None,\n",
        "#objective=\"binary:logistic\", booster='gbtree', n_jobs=1, nthread=None, gamma=0, min_child_weight=1,\n",
        "#max_delta_step=0, subsample=1, colsample_bytree=1, colsample_bylevel=1, colsample_bynode=1,\n",
        "#reg_alpha=0, reg_lambda=1, scale_pos_weight=1, base_score=0.5, random_state=0, seed=None, missing=None, **kwargs) -> None"
      ],
      "metadata": {
        "id": "opy0PAkTByL8"
      },
      "execution_count": null,
      "outputs": []
    },
    {
      "cell_type": "code",
      "source": [
        "xgb_pred_proba = bst.predict_proba(X_test)\n",
        "print(Y_test)\n",
        "print(xgb_pred_proba)\n",
        "import pandas as pd \n",
        "pd.DataFrame(Y_test).to_csv(F\"/content/gdrive/My Drive/ml-ruhi/XGBoost-Y-true-4class.csv\")\n",
        "pd.DataFrame(xgb_pred_proba).to_csv(F\"/content/gdrive/My Drive/ml-ruhi/XGBoost-Y-pred-4class.csv\")\n"
      ],
      "metadata": {
        "id": "WMo9me3YCHIB"
      },
      "execution_count": null,
      "outputs": []
    },
    {
      "cell_type": "code",
      "source": [
        ""
      ],
      "metadata": {
        "id": "xCnBdasVXrlX"
      },
      "execution_count": null,
      "outputs": []
    },
    {
      "cell_type": "code",
      "source": [
        "from sklearn.metrics import f1_score\n",
        "score = f1_score(Y_test, best_preds, average='weighted')\n",
        "print('F-Measure: %.3f' % score)\n"
      ],
      "metadata": {
        "colab": {
          "base_uri": "https://localhost:8080/"
        },
        "id": "TLEH6_EECIGj",
        "outputId": "9b8cd0e8-5307-45a6-b17c-d29d67b74aab"
      },
      "execution_count": null,
      "outputs": [
        {
          "output_type": "stream",
          "name": "stdout",
          "text": [
            "F-Measure: 0.653\n"
          ]
        }
      ]
    },
    {
      "cell_type": "code",
      "source": [
        "from sklearn.metrics import accuracy_score\n",
        "accuracy = accuracy_score(Y_test, best_preds)\n",
        "accuracy * 100.0"
      ],
      "metadata": {
        "colab": {
          "base_uri": "https://localhost:8080/"
        },
        "id": "ay84jvkHCOqu",
        "outputId": "864d3baa-64ae-482b-93a5-226cd06da834"
      },
      "execution_count": null,
      "outputs": [
        {
          "output_type": "execute_result",
          "data": {
            "text/plain": [
              "68.6046511627907"
            ]
          },
          "metadata": {},
          "execution_count": 27
        }
      ]
    },
    {
      "cell_type": "code",
      "source": [
        "print('Mean ROC AUC: %.3f' % mean(score))"
      ],
      "metadata": {
        "colab": {
          "base_uri": "https://localhost:8080/"
        },
        "id": "0ODJuKVUCSeO",
        "outputId": "05ff0f28-95d6-4d57-c434-dcc358b94ac6"
      },
      "execution_count": null,
      "outputs": [
        {
          "output_type": "stream",
          "name": "stdout",
          "text": [
            "Mean ROC AUC: 0.777\n"
          ]
        }
      ]
    },
    {
      "cell_type": "code",
      "source": [
        "# avg F-measure\n",
        "from sklearn.metrics import f1_score\n",
        "score = f1_score(Y_test, best_preds, average=None)\n",
        "print(score) \n",
        "score = f1_score(Y_test, best_preds, average='macro')\n",
        "print(score) \n",
        "score = f1_score(Y_test, best_preds, average='weighted')\n",
        "print(score) \n"
      ],
      "metadata": {
        "colab": {
          "base_uri": "https://localhost:8080/"
        },
        "id": "B1obt0d_CUqZ",
        "outputId": "0d60100c-9967-45a3-b2b4-5e5e5474d981"
      },
      "execution_count": null,
      "outputs": [
        {
          "output_type": "stream",
          "name": "stdout",
          "text": [
            "[0.87037037 0.86956522 0.4        0.5       ]\n",
            "0.6599838969404187\n",
            "0.7774931655619217\n"
          ]
        }
      ]
    },
    {
      "cell_type": "code",
      "source": [
        "from sklearn.metrics import confusion_matrix,plot_confusion_matrix\n",
        "cm=confusion_matrix(Y_test, best_preds)"
      ],
      "metadata": {
        "id": "XiIK8hqDCb34"
      },
      "execution_count": null,
      "outputs": []
    },
    {
      "cell_type": "code",
      "source": [
        "# code from https://stackoverflow.com/questions/39033880/plot-confusion-matrix-sklearn-with-multiple-labels\n",
        "def plot_conf_mat(cm, target_names, title='Confusion matrix', cmap=None, normalize=True):\n",
        "    import matplotlib.pyplot as plt\n",
        "    import numpy as np\n",
        "    import itertools\n",
        "\n",
        "    accuracy = np.trace(cm) / float(np.sum(cm))\n",
        "    misclass = 1 - accuracy\n",
        "\n",
        "    if cmap is None:\n",
        "        cmap = plt.get_cmap('Blues')\n",
        "\n",
        "    plt.figure(figsize=(8, 6))\n",
        "    plt.imshow(cm, interpolation='nearest', cmap=cmap)\n",
        "    plt.title(title)\n",
        "    plt.colorbar()\n",
        "\n",
        "    if target_names is not None:\n",
        "        tick_marks = np.arange(len(target_names))\n",
        "        plt.xticks(tick_marks, target_names, rotation=45)\n",
        "        plt.yticks(tick_marks, target_names)\n",
        "\n",
        "    if normalize:\n",
        "        cm = cm.astype('float') / cm.sum(axis=1)[:, np.newaxis]\n",
        "\n",
        "\n",
        "    thresh = cm.max() / 1.5 if normalize else cm.max() / 2\n",
        "    for i, j in itertools.product(range(cm.shape[0]), range(cm.shape[1])):\n",
        "        if normalize:\n",
        "            plt.text(j, i, \"{:0.4f}\".format(cm[i, j]),\n",
        "                     horizontalalignment=\"center\",\n",
        "                     color=\"white\" if cm[i, j] > thresh else \"black\")\n",
        "        else:\n",
        "            plt.text(j, i, \"{:,}\".format(cm[i, j]),\n",
        "                     horizontalalignment=\"center\",\n",
        "                     color=\"white\" if cm[i, j] > thresh else \"black\")\n",
        "\n",
        "\n",
        "    plt.tight_layout()\n",
        "    plt.ylabel('True label')\n",
        "    plt.xlabel('Predicted label\\naccuracy={:0.4f}; misclass={:0.4f}'.format(accuracy, misclass))\n",
        "    plt.show()"
      ],
      "metadata": {
        "id": "7W8EdLcXCeHH"
      },
      "execution_count": null,
      "outputs": []
    },
    {
      "cell_type": "code",
      "source": [
        "target_names=['Normal', 'afib', 'noisy', 'other']"
      ],
      "metadata": {
        "id": "fWgS4jIdCg4P"
      },
      "execution_count": null,
      "outputs": []
    },
    {
      "cell_type": "code",
      "source": [
        "plot_conf_mat(cm, target_names)"
      ],
      "metadata": {
        "id": "8I4jKBllCi7F",
        "colab": {
          "base_uri": "https://localhost:8080/",
          "height": 467
        },
        "outputId": "64ecd182-8ed6-4b41-9e8c-d89312802418"
      },
      "execution_count": null,
      "outputs": [
        {
          "output_type": "display_data",
          "data": {
            "image/png": "[encoded data removed]",
            "text/plain": [
              "<Figure size 576x432 with 2 Axes>"
            ]
          },
          "metadata": {
            "needs_background": "light"
          }
        }
      ]
    },
    {
      "cell_type": "code",
      "source": [
        "#cross-validation, k=5, "
      ],
      "metadata": {
        "id": "JNTJBtP9Cjgn"
      },
      "execution_count": null,
      "outputs": []
    }
  ]
}